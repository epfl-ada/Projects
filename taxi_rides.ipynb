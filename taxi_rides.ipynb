{
 "cells": [
  {
   "cell_type": "markdown",
   "metadata": {},
   "source": [
    "# Chicago taxi rides in 2016"
   ]
  },
  {
   "cell_type": "markdown",
   "metadata": {},
   "source": [
    "***Work on \"Chicago taxi rides in 2016\" dataset including :*** \n",
    "    \n",
    "-Clean the datasets (remove outliers, fill missing values)\n",
    "\n",
    "-Compute interesting derivatives of the datasets\n",
    "\n",
    "-Extract as many information as possible from the different datasets\n",
    "\n",
    "-Visualize the data: Draw chart and plot to get more insight into the data\n"
   ]
  },
  {
   "cell_type": "markdown",
   "metadata": {},
   "source": [
    "### Getting a sense of the data"
   ]
  },
  {
   "cell_type": "code",
   "execution_count": 103,
   "metadata": {},
   "outputs": [],
   "source": [
    "import pandas as pd\n",
    "import numpy as np\n",
    "import matplotlib.pyplot as plt\n",
    "import seaborn as sns"
   ]
  },
  {
   "cell_type": "code",
   "execution_count": 2,
   "metadata": {},
   "outputs": [],
   "source": [
    "all_df = []\n",
    "for i in range (1,13):\n",
    "    if i>=10:\n",
    "        path = \"./chicago-taxi-rides-2016/chicago_taxi_trips_2016_\"\n",
    "    else: \n",
    "        path = \"./chicago-taxi-rides-2016/chicago_taxi_trips_2016_0\"\n",
    "    all_df.append(pd.read_csv(path+str(i)+\".csv\"))"
   ]
  },
  {
   "cell_type": "code",
   "execution_count": 3,
   "metadata": {},
   "outputs": [],
   "source": [
    "data = pd.concat(all_df)"
   ]
  },
  {
   "cell_type": "markdown",
   "metadata": {},
   "source": [
    "Check how many rows have latitude and longitude but not corresponding community area "
   ]
  },
  {
   "cell_type": "code",
   "execution_count": 4,
   "metadata": {},
   "outputs": [
    {
     "name": "stdout",
     "output_type": "stream",
     "text": [
      "(0, 20)\n",
      "(141660, 20)\n",
      "(380, 20)\n",
      "(38388, 20)\n"
     ]
    }
   ],
   "source": [
    "print(data[np.isfinite(data[\"pickup_community_area\"]) & pd.isnull(data[\"pickup_latitude\"]) & pd.isnull(data[\"pickup_longitude\"]) ].shape)\n",
    "print(data[np.isfinite(data[\"dropoff_community_area\"]) & pd.isnull(data[\"pickup_latitude\"]) & pd.isnull(data[\"pickup_longitude\"]) ].shape)\n",
    "print(data[np.isfinite(data[\"pickup_latitude\"]) & np.isfinite(data[\"pickup_longitude\"]) & pd.isnull(data[\"pickup_community_area\"])].shape)\n",
    "print(data[np.isfinite(data[\"dropoff_latitude\"]) & np.isfinite(data[\"dropoff_longitude\"]) & pd.isnull(data[\"dropoff_community_area\"])].shape)"
   ]
  },
  {
   "cell_type": "code",
   "execution_count": 5,
   "metadata": {},
   "outputs": [],
   "source": [
    "gp_pu = data.groupby([\"pickup_latitude\",\"pickup_longitude\"]).first()"
   ]
  },
  {
   "cell_type": "code",
   "execution_count": 6,
   "metadata": {},
   "outputs": [
    {
     "data": {
      "text/html": [
       "<div>\n",
       "<style scoped>\n",
       "    .dataframe tbody tr th:only-of-type {\n",
       "        vertical-align: middle;\n",
       "    }\n",
       "\n",
       "    .dataframe tbody tr th {\n",
       "        vertical-align: top;\n",
       "    }\n",
       "\n",
       "    .dataframe thead th {\n",
       "        text-align: right;\n",
       "    }\n",
       "</style>\n",
       "<table border=\"1\" class=\"dataframe\">\n",
       "  <thead>\n",
       "    <tr style=\"text-align: right;\">\n",
       "      <th></th>\n",
       "      <th></th>\n",
       "      <th>taxi_id</th>\n",
       "      <th>trip_start_timestamp</th>\n",
       "      <th>trip_end_timestamp</th>\n",
       "      <th>trip_seconds</th>\n",
       "      <th>trip_miles</th>\n",
       "      <th>pickup_census_tract</th>\n",
       "      <th>dropoff_census_tract</th>\n",
       "      <th>pickup_community_area</th>\n",
       "      <th>dropoff_community_area</th>\n",
       "      <th>fare</th>\n",
       "      <th>tips</th>\n",
       "      <th>tolls</th>\n",
       "      <th>extras</th>\n",
       "      <th>trip_total</th>\n",
       "      <th>payment_type</th>\n",
       "      <th>company</th>\n",
       "      <th>dropoff_latitude</th>\n",
       "      <th>dropoff_longitude</th>\n",
       "    </tr>\n",
       "    <tr>\n",
       "      <th>pickup_latitude</th>\n",
       "      <th>pickup_longitude</th>\n",
       "      <th></th>\n",
       "      <th></th>\n",
       "      <th></th>\n",
       "      <th></th>\n",
       "      <th></th>\n",
       "      <th></th>\n",
       "      <th></th>\n",
       "      <th></th>\n",
       "      <th></th>\n",
       "      <th></th>\n",
       "      <th></th>\n",
       "      <th></th>\n",
       "      <th></th>\n",
       "      <th></th>\n",
       "      <th></th>\n",
       "      <th></th>\n",
       "      <th></th>\n",
       "      <th></th>\n",
       "    </tr>\n",
       "  </thead>\n",
       "  <tbody>\n",
       "    <tr>\n",
       "      <th>594.0</th>\n",
       "      <th>572.0</th>\n",
       "      <td>4549.0</td>\n",
       "      <td>2016-1-26 16:45:00</td>\n",
       "      <td>2016-1-26 16:45:00</td>\n",
       "      <td>0.0</td>\n",
       "      <td>0.0</td>\n",
       "      <td>NaN</td>\n",
       "      <td>553.0</td>\n",
       "      <td>NaN</td>\n",
       "      <td>76.0</td>\n",
       "      <td>3.25</td>\n",
       "      <td>0.0</td>\n",
       "      <td>0.0</td>\n",
       "      <td>0.0</td>\n",
       "      <td>3.25</td>\n",
       "      <td>Cash</td>\n",
       "      <td>107.0</td>\n",
       "      <td>594.0</td>\n",
       "      <td>572.0</td>\n",
       "    </tr>\n",
       "  </tbody>\n",
       "</table>\n",
       "</div>"
      ],
      "text/plain": [
       "                                  taxi_id trip_start_timestamp  \\\n",
       "pickup_latitude pickup_longitude                                 \n",
       "594.0           572.0              4549.0   2016-1-26 16:45:00   \n",
       "\n",
       "                                  trip_end_timestamp  trip_seconds  \\\n",
       "pickup_latitude pickup_longitude                                     \n",
       "594.0           572.0             2016-1-26 16:45:00           0.0   \n",
       "\n",
       "                                  trip_miles  pickup_census_tract  \\\n",
       "pickup_latitude pickup_longitude                                    \n",
       "594.0           572.0                    0.0                  NaN   \n",
       "\n",
       "                                  dropoff_census_tract  pickup_community_area  \\\n",
       "pickup_latitude pickup_longitude                                                \n",
       "594.0           572.0                            553.0                    NaN   \n",
       "\n",
       "                                  dropoff_community_area  fare  tips  tolls  \\\n",
       "pickup_latitude pickup_longitude                                              \n",
       "594.0           572.0                               76.0  3.25   0.0    0.0   \n",
       "\n",
       "                                  extras  trip_total payment_type  company  \\\n",
       "pickup_latitude pickup_longitude                                             \n",
       "594.0           572.0                0.0        3.25         Cash    107.0   \n",
       "\n",
       "                                  dropoff_latitude  dropoff_longitude  \n",
       "pickup_latitude pickup_longitude                                       \n",
       "594.0           572.0                        594.0              572.0  "
      ]
     },
     "execution_count": 6,
     "metadata": {},
     "output_type": "execute_result"
    }
   ],
   "source": [
    "gp_pu[pd.isnull(gp_pu[\"pickup_community_area\"])]"
   ]
  },
  {
   "cell_type": "code",
   "execution_count": 7,
   "metadata": {},
   "outputs": [
    {
     "data": {
      "text/html": [
       "<div>\n",
       "<style scoped>\n",
       "    .dataframe tbody tr th:only-of-type {\n",
       "        vertical-align: middle;\n",
       "    }\n",
       "\n",
       "    .dataframe tbody tr th {\n",
       "        vertical-align: top;\n",
       "    }\n",
       "\n",
       "    .dataframe thead th {\n",
       "        text-align: right;\n",
       "    }\n",
       "</style>\n",
       "<table border=\"1\" class=\"dataframe\">\n",
       "  <thead>\n",
       "    <tr style=\"text-align: right;\">\n",
       "      <th></th>\n",
       "      <th></th>\n",
       "      <th>taxi_id</th>\n",
       "      <th>trip_start_timestamp</th>\n",
       "      <th>trip_end_timestamp</th>\n",
       "      <th>trip_seconds</th>\n",
       "      <th>trip_miles</th>\n",
       "      <th>pickup_census_tract</th>\n",
       "      <th>dropoff_census_tract</th>\n",
       "      <th>pickup_community_area</th>\n",
       "      <th>dropoff_community_area</th>\n",
       "      <th>fare</th>\n",
       "      <th>tips</th>\n",
       "      <th>tolls</th>\n",
       "      <th>extras</th>\n",
       "      <th>trip_total</th>\n",
       "      <th>payment_type</th>\n",
       "      <th>company</th>\n",
       "      <th>pickup_latitude</th>\n",
       "      <th>pickup_longitude</th>\n",
       "    </tr>\n",
       "    <tr>\n",
       "      <th>dropoff_latitude</th>\n",
       "      <th>dropoff_longitude</th>\n",
       "      <th></th>\n",
       "      <th></th>\n",
       "      <th></th>\n",
       "      <th></th>\n",
       "      <th></th>\n",
       "      <th></th>\n",
       "      <th></th>\n",
       "      <th></th>\n",
       "      <th></th>\n",
       "      <th></th>\n",
       "      <th></th>\n",
       "      <th></th>\n",
       "      <th></th>\n",
       "      <th></th>\n",
       "      <th></th>\n",
       "      <th></th>\n",
       "      <th></th>\n",
       "      <th></th>\n",
       "    </tr>\n",
       "  </thead>\n",
       "  <tbody>\n",
       "    <tr>\n",
       "      <th>594.0</th>\n",
       "      <th>572.0</th>\n",
       "      <td>1415.0</td>\n",
       "      <td>2016-1-11 20:15:00</td>\n",
       "      <td>2016-1-11 20:30:00</td>\n",
       "      <td>660.0</td>\n",
       "      <td>0.0</td>\n",
       "      <td>NaN</td>\n",
       "      <td>553.0</td>\n",
       "      <td>76.0</td>\n",
       "      <td>NaN</td>\n",
       "      <td>10.25</td>\n",
       "      <td>0.0</td>\n",
       "      <td>0.0</td>\n",
       "      <td>4.0</td>\n",
       "      <td>14.25</td>\n",
       "      <td>Cash</td>\n",
       "      <td>101.0</td>\n",
       "      <td>225.0</td>\n",
       "      <td>6.0</td>\n",
       "    </tr>\n",
       "  </tbody>\n",
       "</table>\n",
       "</div>"
      ],
      "text/plain": [
       "                                    taxi_id trip_start_timestamp  \\\n",
       "dropoff_latitude dropoff_longitude                                 \n",
       "594.0            572.0               1415.0   2016-1-11 20:15:00   \n",
       "\n",
       "                                    trip_end_timestamp  trip_seconds  \\\n",
       "dropoff_latitude dropoff_longitude                                     \n",
       "594.0            572.0              2016-1-11 20:30:00         660.0   \n",
       "\n",
       "                                    trip_miles  pickup_census_tract  \\\n",
       "dropoff_latitude dropoff_longitude                                    \n",
       "594.0            572.0                     0.0                  NaN   \n",
       "\n",
       "                                    dropoff_census_tract  \\\n",
       "dropoff_latitude dropoff_longitude                         \n",
       "594.0            572.0                             553.0   \n",
       "\n",
       "                                    pickup_community_area  \\\n",
       "dropoff_latitude dropoff_longitude                          \n",
       "594.0            572.0                               76.0   \n",
       "\n",
       "                                    dropoff_community_area   fare  tips  \\\n",
       "dropoff_latitude dropoff_longitude                                        \n",
       "594.0            572.0                                 NaN  10.25   0.0   \n",
       "\n",
       "                                    tolls  extras  trip_total payment_type  \\\n",
       "dropoff_latitude dropoff_longitude                                           \n",
       "594.0            572.0                0.0     4.0       14.25         Cash   \n",
       "\n",
       "                                    company  pickup_latitude  pickup_longitude  \n",
       "dropoff_latitude dropoff_longitude                                              \n",
       "594.0            572.0                101.0            225.0               6.0  "
      ]
     },
     "execution_count": 7,
     "metadata": {},
     "output_type": "execute_result"
    }
   ],
   "source": [
    "gp_pu = data.groupby([\"dropoff_latitude\",\"dropoff_longitude\"]).first()\n",
    "gp_pu[pd.isnull(gp_pu[\"dropoff_community_area\"])]"
   ]
  },
  {
   "cell_type": "code",
   "execution_count": 8,
   "metadata": {},
   "outputs": [],
   "source": [
    "c_areas = np.unique(data[\"dropoff_community_area\"].values)\n",
    "c_areas = c_areas[~np.isnan(c_areas)]"
   ]
  },
  {
   "cell_type": "code",
   "execution_count": 9,
   "metadata": {},
   "outputs": [
    {
     "data": {
      "text/plain": [
       "array([ 1.,  2.,  3.,  4.,  5.,  6.,  7.,  8.,  9., 10., 11., 12., 13.,\n",
       "       14., 15., 16., 17., 18., 19., 20., 21., 22., 23., 24., 25., 26.,\n",
       "       27., 28., 29., 30., 31., 32., 33., 34., 35., 36., 37., 38., 39.,\n",
       "       40., 41., 42., 43., 44., 45., 46., 47., 48., 49., 50., 51., 52.,\n",
       "       53., 54., 55., 56., 57., 58., 59., 60., 61., 62., 63., 64., 65.,\n",
       "       66., 67., 68., 69., 70., 71., 72., 73., 74., 75., 76., 77.])"
      ]
     },
     "execution_count": 9,
     "metadata": {},
     "output_type": "execute_result"
    }
   ],
   "source": [
    "c_areas"
   ]
  },
  {
   "cell_type": "markdown",
   "metadata": {},
   "source": [
    "We see that the NaN values only come from one location with lat 594 and long 572. As all the 77 community areas are present in the dataset, I suppose that the missing values are explained by the fact that the corresponding locations do not correspond to the city of Chicago. I checked the longitude and latitude and it is indeed not part of the city of Chicago. I then decide to remove all rows with NaN value in the community area column."
   ]
  },
  {
   "cell_type": "code",
   "execution_count": 10,
   "metadata": {},
   "outputs": [],
   "source": [
    "data = data[np.isfinite(data['pickup_community_area'])]\n",
    "data = data[np.isfinite(data['dropoff_community_area'])]"
   ]
  },
  {
   "cell_type": "code",
   "execution_count": 95,
   "metadata": {},
   "outputs": [
    {
     "data": {
      "text/html": [
       "<div>\n",
       "<style scoped>\n",
       "    .dataframe tbody tr th:only-of-type {\n",
       "        vertical-align: middle;\n",
       "    }\n",
       "\n",
       "    .dataframe tbody tr th {\n",
       "        vertical-align: top;\n",
       "    }\n",
       "\n",
       "    .dataframe thead th {\n",
       "        text-align: right;\n",
       "    }\n",
       "</style>\n",
       "<table border=\"1\" class=\"dataframe\">\n",
       "  <thead>\n",
       "    <tr style=\"text-align: right;\">\n",
       "      <th></th>\n",
       "      <th>trip_start_timestamp</th>\n",
       "      <th>trip_end_timestamp</th>\n",
       "    </tr>\n",
       "  </thead>\n",
       "  <tbody>\n",
       "    <tr>\n",
       "      <th>0</th>\n",
       "      <td>2016-1-13 06:15:00</td>\n",
       "      <td>2016-1-13 06:15:00</td>\n",
       "    </tr>\n",
       "    <tr>\n",
       "      <th>3</th>\n",
       "      <td>2016-1-23 17:30:00</td>\n",
       "      <td>2016-1-23 17:30:00</td>\n",
       "    </tr>\n",
       "    <tr>\n",
       "      <th>5</th>\n",
       "      <td>2016-1-8 18:15:00</td>\n",
       "      <td>2016-1-8 18:45:00</td>\n",
       "    </tr>\n",
       "    <tr>\n",
       "      <th>7</th>\n",
       "      <td>2016-1-26 04:15:00</td>\n",
       "      <td>2016-1-26 04:15:00</td>\n",
       "    </tr>\n",
       "    <tr>\n",
       "      <th>8</th>\n",
       "      <td>2016-1-22 11:30:00</td>\n",
       "      <td>2016-1-22 11:45:00</td>\n",
       "    </tr>\n",
       "  </tbody>\n",
       "</table>\n",
       "</div>"
      ],
      "text/plain": [
       "  trip_start_timestamp  trip_end_timestamp\n",
       "0   2016-1-13 06:15:00  2016-1-13 06:15:00\n",
       "3   2016-1-23 17:30:00  2016-1-23 17:30:00\n",
       "5    2016-1-8 18:15:00   2016-1-8 18:45:00\n",
       "7   2016-1-26 04:15:00  2016-1-26 04:15:00\n",
       "8   2016-1-22 11:30:00  2016-1-22 11:45:00"
      ]
     },
     "execution_count": 95,
     "metadata": {},
     "output_type": "execute_result"
    }
   ],
   "source": [
    "data[[\"trip_start_timestamp\",\"trip_end_timestamp\" ]].head()"
   ]
  },
  {
   "cell_type": "code",
   "execution_count": 12,
   "metadata": {},
   "outputs": [],
   "source": [
    "pu_nb = data[\"pickup_community_area\"].value_counts()"
   ]
  },
  {
   "cell_type": "code",
   "execution_count": 13,
   "metadata": {},
   "outputs": [],
   "source": [
    "do_nb = data[\"dropoff_community_area\"].value_counts()"
   ]
  },
  {
   "cell_type": "code",
   "execution_count": 14,
   "metadata": {},
   "outputs": [
    {
     "data": {
      "text/plain": [
       "Text(0.5, 0, 'Community area')"
      ]
     },
     "execution_count": 14,
     "metadata": {},
     "output_type": "execute_result"
    },
    {
     "data": {
      "image/png": "[encoded data removed]",
      "text/plain": [
       "<Figure size 960x480 with 1 Axes>"
      ]
     },
     "metadata": {
      "needs_background": "light"
     },
     "output_type": "display_data"
    }
   ],
   "source": [
    "plt.figure(figsize=(12, 6), dpi = 80)\n",
    "ax, _, _ = plt.hist(data[\"pickup_community_area\"], bins = 78)\n",
    "plt.ylabel('#Pick-up')\n",
    "plt.xlabel('Community area')"
   ]
  },
  {
   "cell_type": "code",
   "execution_count": 15,
   "metadata": {},
   "outputs": [
    {
     "data": {
      "text/plain": [
       "Text(0.5, 0, 'Community area')"
      ]
     },
     "execution_count": 15,
     "metadata": {},
     "output_type": "execute_result"
    },
    {
     "data": {
      "image/png": "[encoded data removed]",
      "text/plain": [
       "<Figure size 960x480 with 1 Axes>"
      ]
     },
     "metadata": {
      "needs_background": "light"
     },
     "output_type": "display_data"
    }
   ],
   "source": [
    "plt.figure(figsize=(12, 6), dpi = 80)\n",
    "ax, _, _ = plt.hist(data[\"dropoff_community_area\"], bins = 78)\n",
    "plt.ylabel('#Drop-off')\n",
    "plt.xlabel('Community area')"
   ]
  },
  {
   "cell_type": "markdown",
   "metadata": {},
   "source": [
    "Very similar plots between drop off and pick up"
   ]
  },
  {
   "cell_type": "markdown",
   "metadata": {},
   "source": [
    "Community areas with most pick-ups"
   ]
  },
  {
   "cell_type": "code",
   "execution_count": 16,
   "metadata": {},
   "outputs": [],
   "source": [
    "pu_ca = pu_nb.sort_values(ascending = False).index"
   ]
  },
  {
   "cell_type": "markdown",
   "metadata": {},
   "source": [
    "Community areas with most drop-offs"
   ]
  },
  {
   "cell_type": "code",
   "execution_count": 17,
   "metadata": {},
   "outputs": [],
   "source": [
    "do_ca = do_nb.sort_values(ascending = False).index"
   ]
  },
  {
   "cell_type": "code",
   "execution_count": 18,
   "metadata": {},
   "outputs": [
    {
     "data": {
      "text/plain": [
       "Float64Index([ 8.0, 32.0, 28.0, 76.0,  6.0,  7.0, 24.0, 33.0, 56.0,  3.0, 77.0,\n",
       "              22.0,  5.0,  4.0,  2.0,  1.0, 16.0, 41.0, 21.0, 14.0, 11.0, 35.0,\n",
       "              34.0, 39.0, 59.0, 15.0, 31.0, 13.0, 10.0, 23.0, 38.0, 60.0, 43.0,\n",
       "              49.0, 19.0, 42.0, 25.0, 44.0, 12.0, 27.0, 30.0, 20.0, 29.0, 69.0,\n",
       "              61.0, 58.0, 36.0, 17.0, 40.0, 64.0, 68.0, 71.0, 62.0, 46.0, 57.0,\n",
       "              67.0, 66.0, 37.0, 70.0, 45.0, 48.0, 51.0, 63.0, 26.0, 73.0, 65.0,\n",
       "              50.0, 18.0,  9.0, 75.0, 72.0, 53.0, 47.0, 55.0, 52.0, 74.0,\n",
       "              54.0],\n",
       "             dtype='float64')"
      ]
     },
     "execution_count": 18,
     "metadata": {},
     "output_type": "execute_result"
    }
   ],
   "source": [
    "pu_ca"
   ]
  },
  {
   "cell_type": "code",
   "execution_count": 19,
   "metadata": {},
   "outputs": [
    {
     "data": {
      "text/plain": [
       "Float64Index([ 8.0, 32.0, 28.0,  6.0,  7.0, 24.0, 76.0, 33.0,  3.0, 22.0, 56.0,\n",
       "              77.0,  5.0,  4.0,  1.0, 16.0,  2.0, 41.0, 21.0, 14.0, 31.0, 35.0,\n",
       "              34.0, 15.0, 23.0, 60.0, 39.0, 10.0, 59.0, 11.0, 13.0, 19.0, 38.0,\n",
       "              12.0, 25.0, 42.0, 43.0, 29.0, 27.0, 30.0, 20.0, 17.0, 61.0, 49.0,\n",
       "              58.0, 44.0, 69.0, 36.0, 64.0,  9.0, 40.0, 68.0, 57.0, 71.0, 72.0,\n",
       "              66.0, 46.0, 70.0, 67.0, 26.0, 65.0, 63.0, 37.0, 62.0, 18.0, 48.0,\n",
       "              73.0, 75.0, 45.0, 51.0, 50.0, 74.0, 53.0, 52.0, 47.0, 55.0,\n",
       "              54.0],\n",
       "             dtype='float64')"
      ]
     },
     "execution_count": 19,
     "metadata": {},
     "output_type": "execute_result"
    }
   ],
   "source": [
    "do_ca"
   ]
  },
  {
   "cell_type": "code",
   "execution_count": 20,
   "metadata": {},
   "outputs": [
    {
     "data": {
      "text/plain": [
       "array([ True,  True,  True,  True,  True,  True,  True,  True,  True,\n",
       "        True,  True,  True,  True,  True, False])"
      ]
     },
     "execution_count": 20,
     "metadata": {},
     "output_type": "execute_result"
    }
   ],
   "source": [
    "np.in1d(pu_ca[:15], do_ca[:15])"
   ]
  },
  {
   "cell_type": "code",
   "execution_count": 21,
   "metadata": {},
   "outputs": [
    {
     "data": {
      "text/plain": [
       "array([ True,  True,  True,  True,  True,  True])"
      ]
     },
     "execution_count": 21,
     "metadata": {},
     "output_type": "execute_result"
    }
   ],
   "source": [
    "np.in1d(pu_ca[71:], do_ca[71:])"
   ]
  },
  {
   "cell_type": "markdown",
   "metadata": {},
   "source": [
    "From now on we will work with the 15 less frequented areas "
   ]
  },
  {
   "cell_type": "code",
   "execution_count": 120,
   "metadata": {},
   "outputs": [],
   "source": [
    "less_freq = pu_ca[73:]"
   ]
  },
  {
   "cell_type": "markdown",
   "metadata": {},
   "source": [
    "To affine my analysis I decide to study the sum of pick ups and dropoffs"
   ]
  },
  {
   "cell_type": "code",
   "execution_count": 24,
   "metadata": {},
   "outputs": [],
   "source": [
    "less_freq_count = do_nb+pu_nb"
   ]
  },
  {
   "cell_type": "code",
   "execution_count": 25,
   "metadata": {},
   "outputs": [],
   "source": [
    "less_freq_count = less_freq_count.sort_values().head(15)"
   ]
  },
  {
   "cell_type": "code",
   "execution_count": 26,
   "metadata": {},
   "outputs": [
    {
     "data": {
      "text/plain": [
       "Text(0.5, 0, '#PU+DO')"
      ]
     },
     "execution_count": 26,
     "metadata": {},
     "output_type": "execute_result"
    },
    {
     "data": {
      "image/png": "[encoded data removed]",
      "text/plain": [
       "<Figure size 432x288 with 1 Axes>"
      ]
     },
     "metadata": {
      "needs_background": "light"
     },
     "output_type": "display_data"
    }
   ],
   "source": [
    "p = less_freq_count.plot(kind = 'barh')\n",
    "p.set_ylabel(\"Community area\")\n",
    "p.set_xlabel('#PU+DO')"
   ]
  },
  {
   "cell_type": "markdown",
   "metadata": {},
   "source": [
    "I'm going to stick with the 4 less frequented areas wich are : \n",
    "- RIVERDALE\n",
    "- HEGEWISH\n",
    "- EAST SIDE\n",
    "- BURNSIDE"
   ]
  },
  {
   "cell_type": "code",
   "execution_count": 180,
   "metadata": {},
   "outputs": [],
   "source": [
    "most_freq = pu_ca[2:10]\n",
    "less_freq = [54.0, 55.0, 52.0, 47.0]"
   ]
  },
  {
   "cell_type": "markdown",
   "metadata": {},
   "source": [
    "TODO : \n",
    "Pour les 4 => value count par heure (pour pickup puis pour drop off)=> additioner les values counts=> total de freq par heure."
   ]
  },
  {
   "cell_type": "code",
   "execution_count": 88,
   "metadata": {},
   "outputs": [],
   "source": [
    "def convert(s):\n",
    "    if(len(s)> 7):\n",
    "        hour = s.split(' ')[1]\n",
    "        if hour[0] == '0':\n",
    "            st = hour[1]\n",
    "            return int(st)\n",
    "        else:\n",
    "            st = hour[:2]\n",
    "            return int(st)\n",
    "    "
   ]
  },
  {
   "cell_type": "code",
   "execution_count": 166,
   "metadata": {},
   "outputs": [],
   "source": [
    "data[\"trip_start_hour\"] = data[\"trip_start_timestamp\"].apply(lambda x : convert(x))\n",
    "data[\"trip_end_hour\"] = data[\"trip_end_timestamp\"].apply(lambda x : convert(x))"
   ]
  },
  {
   "cell_type": "code",
   "execution_count": 182,
   "metadata": {},
   "outputs": [],
   "source": [
    "data_less_freq_pu = data[data[\"pickup_community_area\"].isin(less_freq)]"
   ]
  },
  {
   "cell_type": "code",
   "execution_count": 183,
   "metadata": {},
   "outputs": [
    {
     "data": {
      "text/plain": [
       "<matplotlib.axes._subplots.AxesSubplot at 0x12f0b8630>"
      ]
     },
     "execution_count": 183,
     "metadata": {},
     "output_type": "execute_result"
    },
    {
     "data": {
      "image/png": "[encoded data removed]",
      "text/plain": [
       "<Figure size 720x432 with 2 Axes>"
      ]
     },
     "metadata": {
      "needs_background": "light"
     },
     "output_type": "display_data"
    }
   ],
   "source": [
    "hour_pu = data_less_freq_pu[[\"pickup_community_area\",\"trip_start_hour\",\"taxi_id\"  ]].groupby([\"pickup_community_area\", \"trip_start_hour\"]).count()\n",
    "hour_pu = hour_pu.rename(columns={'taxi_id':'Count'})\n",
    "hour_pu = hour_pu.reset_index()\n",
    "hour_pu = hour_pu.pivot(\"pickup_community_area\",\"trip_start_hour\",\"Count\").fillna(0)\n",
    "fig, ax = plt.subplots(figsize=(10,6))      \n",
    "plt.title(\"Number of taxi pick ups per hour in the less frequented areas\")\n",
    "sns.heatmap(hour_pu, linewidths=.5, ax=ax, cmap=\"OrRd\")"
   ]
  },
  {
   "cell_type": "code",
   "execution_count": 179,
   "metadata": {},
   "outputs": [
    {
     "data": {
      "text/plain": [
       "<matplotlib.axes._subplots.AxesSubplot at 0x12e1120b8>"
      ]
     },
     "execution_count": 179,
     "metadata": {},
     "output_type": "execute_result"
    },
    {
     "data": {
      "image/png": "[encoded data removed]",
      "text/plain": [
       "<Figure size 720x432 with 2 Axes>"
      ]
     },
     "metadata": {
      "needs_background": "light"
     },
     "output_type": "display_data"
    }
   ],
   "source": [
    "data_most_freq_pu = data[data[\"pickup_community_area\"].isin(most_freq)]\n",
    "hour_pu = data_most_freq_pu[[\"pickup_community_area\",\"trip_start_hour\",\"taxi_id\"  ]].groupby([\"pickup_community_area\", \"trip_start_hour\"]).count()\n",
    "hour_pu = hour_pu.rename(columns={'taxi_id':'Count'})\n",
    "hour_pu = hour_pu.reset_index()\n",
    "hour_pu = hour_pu.pivot(\"pickup_community_area\",\"trip_start_hour\",\"Count\").fillna(0)\n",
    "fig, ax = plt.subplots(figsize=(10,6))      \n",
    "plt.title(\"Number of taxi pick ups per hour in the most frequented areas\")\n",
    "sns.heatmap(hour_pu, linewidths=.5, ax=ax, cmap=\"OrRd\")"
   ]
  },
  {
   "cell_type": "code",
   "execution_count": 184,
   "metadata": {},
   "outputs": [
    {
     "data": {
      "text/plain": [
       "<matplotlib.axes._subplots.AxesSubplot at 0x12e8fb8d0>"
      ]
     },
     "execution_count": 184,
     "metadata": {},
     "output_type": "execute_result"
    },
    {
     "data": {
      "image/png": "[encoded data removed]",
      "text/plain": [
       "<Figure size 720x432 with 2 Axes>"
      ]
     },
     "metadata": {
      "needs_background": "light"
     },
     "output_type": "display_data"
    }
   ],
   "source": [
    "data_less_freq_do = data[data[\"dropoff_community_area\"].isin(less_freq)]\n",
    "hour_pu = data_less_freq_do[[\"dropoff_community_area\",\"trip_end_hour\",\"taxi_id\"  ]].groupby([\"dropoff_community_area\", \"trip_end_hour\"]).count()\n",
    "hour_pu = hour_pu.rename(columns={'taxi_id':'Count'})\n",
    "hour_pu = hour_pu.reset_index()\n",
    "hour_pu = hour_pu.pivot(\"dropoff_community_area\",\"trip_end_hour\",\"Count\").fillna(0)\n",
    "fig, ax = plt.subplots(figsize=(10,6))      \n",
    "plt.title(\"Number of taxi drop offs per hour in the less frequented areas\")\n",
    "sns.heatmap(hour_pu, linewidths=.5, ax=ax, cmap=\"OrRd\")"
   ]
  },
  {
   "cell_type": "code",
   "execution_count": 185,
   "metadata": {},
   "outputs": [
    {
     "data": {
      "text/plain": [
       "<matplotlib.axes._subplots.AxesSubplot at 0x12ef21390>"
      ]
     },
     "execution_count": 185,
     "metadata": {},
     "output_type": "execute_result"
    },
    {
     "data": {
      "image/png": "[encoded data removed]",
      "text/plain": [
       "<Figure size 720x432 with 2 Axes>"
      ]
     },
     "metadata": {
      "needs_background": "light"
     },
     "output_type": "display_data"
    }
   ],
   "source": [
    "data_most_freq_pu = data[data[\"dropoff_community_area\"].isin(most_freq)]\n",
    "hour_pu = data_most_freq_pu[[\"dropoff_community_area\",\"trip_end_hour\",\"taxi_id\"  ]].groupby([\"dropoff_community_area\", \"trip_end_hour\"]).count()\n",
    "hour_pu = hour_pu.rename(columns={'taxi_id':'Count'})\n",
    "hour_pu = hour_pu.reset_index()\n",
    "hour_pu = hour_pu.pivot(\"dropoff_community_area\",\"trip_end_hour\",\"Count\").fillna(0)\n",
    "fig, ax = plt.subplots(figsize=(10,6))      \n",
    "plt.title(\"Number of taxi drop offs per hour in the most frequented areas\")\n",
    "sns.heatmap(hour_pu, linewidths=.5, ax=ax, cmap=\"OrRd\")"
   ]
  },
  {
   "cell_type": "markdown",
   "metadata": {},
   "source": [
    "(https://upload.wikimedia.org/wikipedia/commons/9/94/Blank_Chicago_Community_Area_Map.png)"
   ]
  },
  {
   "cell_type": "code",
   "execution_count": null,
   "metadata": {},
   "outputs": [],
   "source": []
  }
 ],
 "metadata": {
  "kernelspec": {
   "display_name": "Python 3",
   "language": "python",
   "name": "python3"
  },
  "language_info": {
   "codemirror_mode": {
    "name": "ipython",
    "version": 3
   },
   "file_extension": ".py",
   "mimetype": "text/x-python",
   "name": "python",
   "nbconvert_exporter": "python",
   "pygments_lexer": "ipython3",
   "version": "3.7.3"
  }
 },
 "nbformat": 4,
 "nbformat_minor": 4
}
