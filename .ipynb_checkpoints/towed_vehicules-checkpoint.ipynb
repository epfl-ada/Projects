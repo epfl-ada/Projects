{
 "cells": [
  {
   "cell_type": "markdown",
   "metadata": {},
   "source": [
    "# Towed vehicles in Chicago"
   ]
  },
  {
   "cell_type": "markdown",
   "metadata": {},
   "source": [
    "In this notebook, we will have a look at the [towed vehicule dataset](https://data.cityofchicago.org/Transportation/Towed-Vehicles/ygr5-vcbg) whch contains the location of vehicles that have been towed (illegally parked, abondonned or use for illegal activities) in the city of Chicago in the last 90 days. We will try to detect if there are any patterns in the locations and potentially correlate those with other analysis."
   ]
  },
  {
   "cell_type": "markdown",
   "metadata": {},
   "source": [
    "## 1. Data loading/preprocessing"
   ]
  },
  {
   "cell_type": "code",
   "execution_count": 44,
   "metadata": {},
   "outputs": [],
   "source": [
    "import pandas as pd\n",
    "import numpy as np\n",
    "import request\n",
    "from pathlib import Path\n",
    "import matplotlib.pyplot as plt"
   ]
  },
  {
   "cell_type": "code",
   "execution_count": 4,
   "metadata": {},
   "outputs": [],
   "source": [
    "data_path = Path('data')"
   ]
  },
  {
   "cell_type": "code",
   "execution_count": 5,
   "metadata": {},
   "outputs": [],
   "source": [
    "towed_vehicles = pd.read_csv(data_path/'towed_vehicles.csv')"
   ]
  },
  {
   "cell_type": "code",
   "execution_count": 6,
   "metadata": {},
   "outputs": [
    {
     "data": {
      "text/plain": [
       "(4063, 10)"
      ]
     },
     "execution_count": 6,
     "metadata": {},
     "output_type": "execute_result"
    }
   ],
   "source": [
    "towed_vehicles.shape"
   ]
  },
  {
   "cell_type": "markdown",
   "metadata": {},
   "source": [
    "We can see that we have a total of 4063 data points. This will probably be enough to give us good insight when plotting those on a map or aggregating them."
   ]
  },
  {
   "cell_type": "markdown",
   "metadata": {},
   "source": [
    "Let's have a look at the the type of data"
   ]
  },
  {
   "cell_type": "code",
   "execution_count": 7,
   "metadata": {},
   "outputs": [
    {
     "data": {
      "text/html": [
       "<div>\n",
       "<style scoped>\n",
       "    .dataframe tbody tr th:only-of-type {\n",
       "        vertical-align: middle;\n",
       "    }\n",
       "\n",
       "    .dataframe tbody tr th {\n",
       "        vertical-align: top;\n",
       "    }\n",
       "\n",
       "    .dataframe thead th {\n",
       "        text-align: right;\n",
       "    }\n",
       "</style>\n",
       "<table border=\"1\" class=\"dataframe\">\n",
       "  <thead>\n",
       "    <tr style=\"text-align: right;\">\n",
       "      <th></th>\n",
       "      <th>Tow Date</th>\n",
       "      <th>Make</th>\n",
       "      <th>Style</th>\n",
       "      <th>Model</th>\n",
       "      <th>Color</th>\n",
       "      <th>Plate</th>\n",
       "      <th>State</th>\n",
       "      <th>Towed to Address</th>\n",
       "      <th>Tow Facility Phone</th>\n",
       "      <th>Inventory Number</th>\n",
       "    </tr>\n",
       "  </thead>\n",
       "  <tbody>\n",
       "    <tr>\n",
       "      <td>count</td>\n",
       "      <td>4063</td>\n",
       "      <td>4029</td>\n",
       "      <td>4054</td>\n",
       "      <td>203</td>\n",
       "      <td>4051</td>\n",
       "      <td>3435</td>\n",
       "      <td>3930</td>\n",
       "      <td>4063</td>\n",
       "      <td>4063</td>\n",
       "      <td>4063</td>\n",
       "    </tr>\n",
       "    <tr>\n",
       "      <td>unique</td>\n",
       "      <td>91</td>\n",
       "      <td>64</td>\n",
       "      <td>30</td>\n",
       "      <td>21</td>\n",
       "      <td>24</td>\n",
       "      <td>3418</td>\n",
       "      <td>37</td>\n",
       "      <td>4</td>\n",
       "      <td>6</td>\n",
       "      <td>4047</td>\n",
       "    </tr>\n",
       "    <tr>\n",
       "      <td>top</td>\n",
       "      <td>11/22/2019</td>\n",
       "      <td>CHEV</td>\n",
       "      <td>4D</td>\n",
       "      <td>TK</td>\n",
       "      <td>BLK</td>\n",
       "      <td>BC79226</td>\n",
       "      <td>IL</td>\n",
       "      <td>10300 S. Doty</td>\n",
       "      <td>(773) 568-8495</td>\n",
       "      <td>6972749</td>\n",
       "    </tr>\n",
       "    <tr>\n",
       "      <td>freq</td>\n",
       "      <td>138</td>\n",
       "      <td>678</td>\n",
       "      <td>2225</td>\n",
       "      <td>174</td>\n",
       "      <td>782</td>\n",
       "      <td>7</td>\n",
       "      <td>3607</td>\n",
       "      <td>1963</td>\n",
       "      <td>1851</td>\n",
       "      <td>7</td>\n",
       "    </tr>\n",
       "  </tbody>\n",
       "</table>\n",
       "</div>"
      ],
      "text/plain": [
       "          Tow Date  Make Style Model Color    Plate State Towed to Address  \\\n",
       "count         4063  4029  4054   203  4051     3435  3930             4063   \n",
       "unique          91    64    30    21    24     3418    37                4   \n",
       "top     11/22/2019  CHEV    4D    TK   BLK  BC79226    IL    10300 S. Doty   \n",
       "freq           138   678  2225   174   782        7  3607             1963   \n",
       "\n",
       "       Tow Facility Phone Inventory Number  \n",
       "count                4063             4063  \n",
       "unique                  6             4047  \n",
       "top        (773) 568-8495          6972749  \n",
       "freq                 1851                7  "
      ]
     },
     "execution_count": 7,
     "metadata": {},
     "output_type": "execute_result"
    }
   ],
   "source": [
    "towed_vehicles.describe()"
   ]
  },
  {
   "cell_type": "markdown",
   "metadata": {},
   "source": [
    "So each rows correspod to a vehicle with :\n",
    "- **vehicle information columns**: Make, Style, Model, Color, Plate\n",
    "- **location information colums** : Towed to Address, State\n",
    "- **other** : Towed Date, Tow Facility Phone, Inventory Number\n",
    "\n",
    "With each of those being text data except for Towed Date wich is in pandas date type"
   ]
  },
  {
   "cell_type": "markdown",
   "metadata": {},
   "source": [
    "For this anlysis, we will only use the location informations as it is the only ones that are relevent."
   ]
  },
  {
   "cell_type": "code",
   "execution_count": 8,
   "metadata": {},
   "outputs": [],
   "source": [
    "towed_vehicles_init = towed_vehicles.copy() "
   ]
  },
  {
   "cell_type": "code",
   "execution_count": 10,
   "metadata": {},
   "outputs": [],
   "source": [
    "towed_vehicles = towed_vehicles[['State', 'Towed to Address']]"
   ]
  },
  {
   "cell_type": "code",
   "execution_count": 12,
   "metadata": {},
   "outputs": [
    {
     "data": {
      "text/html": [
       "<div>\n",
       "<style scoped>\n",
       "    .dataframe tbody tr th:only-of-type {\n",
       "        vertical-align: middle;\n",
       "    }\n",
       "\n",
       "    .dataframe tbody tr th {\n",
       "        vertical-align: top;\n",
       "    }\n",
       "\n",
       "    .dataframe thead th {\n",
       "        text-align: right;\n",
       "    }\n",
       "</style>\n",
       "<table border=\"1\" class=\"dataframe\">\n",
       "  <thead>\n",
       "    <tr style=\"text-align: right;\">\n",
       "      <th></th>\n",
       "      <th>State</th>\n",
       "      <th>Towed to Address</th>\n",
       "    </tr>\n",
       "  </thead>\n",
       "  <tbody>\n",
       "    <tr>\n",
       "      <td>0</td>\n",
       "      <td>IL</td>\n",
       "      <td>701 N. Sacramento</td>\n",
       "    </tr>\n",
       "    <tr>\n",
       "      <td>1</td>\n",
       "      <td>IL</td>\n",
       "      <td>400 E. Lower Wacker</td>\n",
       "    </tr>\n",
       "    <tr>\n",
       "      <td>2</td>\n",
       "      <td>IL</td>\n",
       "      <td>701 N. Sacramento</td>\n",
       "    </tr>\n",
       "    <tr>\n",
       "      <td>3</td>\n",
       "      <td>IL</td>\n",
       "      <td>10300 S. Doty</td>\n",
       "    </tr>\n",
       "    <tr>\n",
       "      <td>4</td>\n",
       "      <td>IL</td>\n",
       "      <td>701 N. Sacramento</td>\n",
       "    </tr>\n",
       "  </tbody>\n",
       "</table>\n",
       "</div>"
      ],
      "text/plain": [
       "  State     Towed to Address\n",
       "0    IL    701 N. Sacramento\n",
       "1    IL  400 E. Lower Wacker\n",
       "2    IL    701 N. Sacramento\n",
       "3    IL        10300 S. Doty\n",
       "4    IL    701 N. Sacramento"
      ]
     },
     "execution_count": 12,
     "metadata": {},
     "output_type": "execute_result"
    }
   ],
   "source": [
    "towed_vehicles.head()"
   ]
  },
  {
   "cell_type": "code",
   "execution_count": 28,
   "metadata": {},
   "outputs": [
    {
     "data": {
      "text/plain": [
       "array(['701 N. Sacramento', '400 E. Lower Wacker', '10300 S. Doty',\n",
       "       \"Chicago O'hare International Airport remote lot E.\"], dtype=object)"
      ]
     },
     "execution_count": 28,
     "metadata": {},
     "output_type": "execute_result"
    }
   ],
   "source": [
    "towed_vehicles['Towed to Address'].unique()"
   ]
  },
  {
   "cell_type": "markdown",
   "metadata": {},
   "source": [
    "Let's see if there are any null values"
   ]
  },
  {
   "cell_type": "code",
   "execution_count": 20,
   "metadata": {},
   "outputs": [
    {
     "data": {
      "text/plain": [
       "State                True\n",
       "Towed to Address    False\n",
       "dtype: bool"
      ]
     },
     "execution_count": 20,
     "metadata": {},
     "output_type": "execute_result"
    }
   ],
   "source": [
    "towed_vehicles.isnull().any() "
   ]
  },
  {
   "cell_type": "code",
   "execution_count": 21,
   "metadata": {},
   "outputs": [
    {
     "data": {
      "text/plain": [
       "State               133\n",
       "Towed to Address      0\n",
       "dtype: int64"
      ]
     },
     "execution_count": 21,
     "metadata": {},
     "output_type": "execute_result"
    }
   ],
   "source": [
    "towed_vehicles.isnull().sum()\n"
   ]
  },
  {
   "cell_type": "markdown",
   "metadata": {},
   "source": [
    "Apparently, the State column has 133 null values, let's have a look at those a bit more in detail."
   ]
  },
  {
   "cell_type": "code",
   "execution_count": 31,
   "metadata": {},
   "outputs": [
    {
     "data": {
      "text/html": [
       "<div>\n",
       "<style scoped>\n",
       "    .dataframe tbody tr th:only-of-type {\n",
       "        vertical-align: middle;\n",
       "    }\n",
       "\n",
       "    .dataframe tbody tr th {\n",
       "        vertical-align: top;\n",
       "    }\n",
       "\n",
       "    .dataframe thead th {\n",
       "        text-align: right;\n",
       "    }\n",
       "</style>\n",
       "<table border=\"1\" class=\"dataframe\">\n",
       "  <thead>\n",
       "    <tr style=\"text-align: right;\">\n",
       "      <th></th>\n",
       "      <th>State</th>\n",
       "      <th>Towed to Address</th>\n",
       "    </tr>\n",
       "  </thead>\n",
       "  <tbody>\n",
       "    <tr>\n",
       "      <td>43</td>\n",
       "      <td>NaN</td>\n",
       "      <td>701 N. Sacramento</td>\n",
       "    </tr>\n",
       "    <tr>\n",
       "      <td>45</td>\n",
       "      <td>NaN</td>\n",
       "      <td>10300 S. Doty</td>\n",
       "    </tr>\n",
       "    <tr>\n",
       "      <td>70</td>\n",
       "      <td>NaN</td>\n",
       "      <td>701 N. Sacramento</td>\n",
       "    </tr>\n",
       "    <tr>\n",
       "      <td>78</td>\n",
       "      <td>NaN</td>\n",
       "      <td>10300 S. Doty</td>\n",
       "    </tr>\n",
       "    <tr>\n",
       "      <td>138</td>\n",
       "      <td>NaN</td>\n",
       "      <td>701 N. Sacramento</td>\n",
       "    </tr>\n",
       "  </tbody>\n",
       "</table>\n",
       "</div>"
      ],
      "text/plain": [
       "    State   Towed to Address\n",
       "43    NaN  701 N. Sacramento\n",
       "45    NaN      10300 S. Doty\n",
       "70    NaN  701 N. Sacramento\n",
       "78    NaN      10300 S. Doty\n",
       "138   NaN  701 N. Sacramento"
      ]
     },
     "execution_count": 31,
     "metadata": {},
     "output_type": "execute_result"
    }
   ],
   "source": [
    "null_states = towed_vehicles[towed_vehicles['State'].isnull()]\n",
    "null_states.head()"
   ]
  },
  {
   "cell_type": "code",
   "execution_count": 33,
   "metadata": {},
   "outputs": [
    {
     "data": {
      "text/plain": [
       "array(['701 N. Sacramento', '400 E. Lower Wacker', '10300 S. Doty',\n",
       "       \"Chicago O'hare International Airport remote lot E.\"], dtype=object)"
      ]
     },
     "execution_count": 33,
     "metadata": {},
     "output_type": "execute_result"
    }
   ],
   "source": [
    "towed_vehicles['Towed to Address'].unique()"
   ]
  },
  {
   "cell_type": "code",
   "execution_count": 32,
   "metadata": {},
   "outputs": [
    {
     "data": {
      "text/plain": [
       "array(['701 N. Sacramento', '10300 S. Doty', '400 E. Lower Wacker'],\n",
       "      dtype=object)"
      ]
     },
     "execution_count": 32,
     "metadata": {},
     "output_type": "execute_result"
    }
   ],
   "source": [
    "null_states['Towed to Address'].unique()"
   ]
  },
  {
   "cell_type": "markdown",
   "metadata": {},
   "source": [
    "As we can see, we cannot infer the state values that are null from the Towed Address, we will just have to disregard them"
   ]
  },
  {
   "cell_type": "code",
   "execution_count": 42,
   "metadata": {},
   "outputs": [],
   "source": [
    "towed_vehicles = towed_vehicles[~towed_vehicles['State'].isnull()]"
   ]
  },
  {
   "cell_type": "markdown",
   "metadata": {},
   "source": [
    "We can now take group the towed vehicles per state"
   ]
  },
  {
   "cell_type": "code",
   "execution_count": 46,
   "metadata": {},
   "outputs": [
    {
     "data": {
      "image/png": "[encoded data removed]",
      "text/plain": [
       "<Figure size 1008x576 with 1 Axes>"
      ]
     },
     "metadata": {
      "needs_background": "light"
     },
     "output_type": "display_data"
    }
   ],
   "source": [
    "plt.figure(figsize=(14, 8))\n",
    "towed_vehicles['State'].value_counts().head(10).plot(kind='barh', color='mediumaquamarine')\n",
    "plt.title('Towed vehicles per state')\n",
    "plt.show()"
   ]
  }
 ],
 "metadata": {
  "kernelspec": {
   "display_name": "Python 3",
   "language": "python",
   "name": "python3"
  },
  "language_info": {
   "codemirror_mode": {
    "name": "ipython",
    "version": 3
   },
   "file_extension": ".py",
   "mimetype": "text/x-python",
   "name": "python",
   "nbconvert_exporter": "python",
   "pygments_lexer": "ipython3",
   "version": "3.7.4"
  }
 },
 "nbformat": 4,
 "nbformat_minor": 2
}
